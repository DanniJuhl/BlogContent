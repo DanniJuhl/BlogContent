{
    "metadata": {
        "kernelspec": {
            "name": "SQL",
            "display_name": "SQL",
            "language": "sql"
        },
        "language_info": {
            "name": "sql",
            "version": ""
        }
    },
    "nbformat_minor": 2,
    "nbformat": 4,
    "cells": [
        {
            "cell_type": "markdown",
            "source": "The follow notebook contains snippets as to dynamically staging data from tables from a Microsoft SQL Server.  \r\nThis can be implemented relevatively easy with all relational databases, however the \"meta\" query, as to which objects are present in the SOURCE, needs to be updated with the correct syntax for the specific source system. ",
            "metadata": {}
        },
        {
            "cell_type": "markdown",
            "source": "## Meta Layer",
            "metadata": {}
        },
        {
            "cell_type": "markdown",
            "source": "\r\n\r\nThe query below is used in a dataset against the SOURCE database, as to ingest a list of tables from the source into our own database.  \r\nThis allows us to get a full list of tables on our side, which can be used for \"selecting\", or including the tables that are of interest for us. \r\n\r\nNote: This can be changed to using the MS-SQL dmv [sys].[objects] instead, and then filtering on type IN ('U', 'V'), as to give support for views as well as tables. ",
            "metadata": {}
        },
        {
            "cell_type": "code",
            "source": "SELECT \r\n    SchemaName = SCHEMA_NAME(schema_id),\r\n    TableName = [Name],\r\n    IsIncluded = 0\r\nFROM sys.tables;",
            "metadata": {},
            "outputs": [],
            "execution_count": 0
        },
        {
            "cell_type": "markdown",
            "source": "After we have a full list of the tables we want on our side, we can mark them as IsIncluded by switching the bit from 0 to 1.  \r\nThen, at runtime we evaluate the list of objects marked with 1, and execute against those.  \r\nThis means we need a simple way for us to retrieve the list of all the objects marked as IsIncluded = 1.  \r\n\r\nI tend to do this through a view, sample can be found below. ",
            "metadata": {}
        },
        {
            "cell_type": "code",
            "source": "CREATE VIEW meta.IncludedObjects\r\nAS\r\nSELECT \r\n    SchemaName, \r\n    TableName\r\nFROM meta.Tables\r\nWHERE IsIncluded = 1;",
            "metadata": {},
            "outputs": [],
            "execution_count": 0
        }
    ]
}